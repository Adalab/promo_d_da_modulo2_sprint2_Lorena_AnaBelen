{
 "cells": [
  {
   "attachments": {},
   "cell_type": "markdown",
   "metadata": {},
   "source": [
    "#### PAIR PROGRAMMING - ETL 6"
   ]
  },
  {
   "attachments": {},
   "cell_type": "markdown",
   "metadata": {},
   "source": [
    "- En la lección de hoy aprendimos como podemos crear un ejecutable. En este contexto, el objetivo del ejercicio de hoy es que creeis un ejecutable con todo el código que hemos ido creando durante las otras sesiones de pair programming ETL.\n",
    "\n",
    "- Al final, debereis tener un archivo .py que lo ejecutemos en la terminal y nos actualice los datos, los limpie y nos los meta en SQL."
   ]
  },
  {
   "cell_type": "code",
   "execution_count": null,
   "metadata": {},
   "outputs": [],
   "source": []
  }
 ],
 "metadata": {
  "kernelspec": {
   "display_name": "Python 3",
   "language": "python",
   "name": "python3"
  },
  "language_info": {
   "name": "python",
   "version": "3.9.13"
  },
  "orig_nbformat": 4,
  "vscode": {
   "interpreter": {
    "hash": "3a19f00f41f77a1ebaccda73eb3290ec65e6f87c37187114d21c22f44ded00c5"
   }
  }
 },
 "nbformat": 4,
 "nbformat_minor": 2
}
