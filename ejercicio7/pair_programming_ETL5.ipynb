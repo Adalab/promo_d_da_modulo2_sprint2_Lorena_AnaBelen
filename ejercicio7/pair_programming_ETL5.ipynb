{
 "cells": [
  {
   "attachments": {},
   "cell_type": "markdown",
   "metadata": {},
   "source": [
    "#### PAIR PROGRAMMING - ETL 5\n"
   ]
  },
  {
   "attachments": {},
   "cell_type": "markdown",
   "metadata": {},
   "source": [
    "- Igual que en el ejercicio de pair programming de ETL Transformación II, tendréis que crear una clase que nos permita cargar los datos en SQL I."
   ]
  },
  {
   "cell_type": "code",
   "execution_count": 11,
   "metadata": {},
   "outputs": [],
   "source": [
    "import pandas as pd\n",
    "import mysql.connector"
   ]
  },
  {
   "cell_type": "code",
   "execution_count": 12,
   "metadata": {},
   "outputs": [],
   "source": [
    "df_ccaa = pd.read_pickle('../ejercicio6/datos/df_ccaa.pkl')"
   ]
  },
  {
   "cell_type": "code",
   "execution_count": 13,
   "metadata": {},
   "outputs": [],
   "source": [
    "df_nacional = pd.read_pickle('../ejercicio6/datos/df_nacional.pkl')"
   ]
  },
  {
   "cell_type": "code",
   "execution_count": 14,
   "metadata": {},
   "outputs": [],
   "source": [
    "class Cargar:\n",
    "    \n",
    "    def __init__(self, nombre_bbdd, contraseña):\n",
    "        # nuestra clase va a recibir dos parámetros que son fijos a lo largo de toda la BBDD, el nombre de la BBDD y la contraseña con el servidor. \n",
    "        self.nombre_bbdd = nombre_bbdd\n",
    "        self.contraseña = contraseña\n",
    "    \n",
    "    def crear_bbdd(self):\n",
    "\n",
    "        mydb = mysql.connector.connect(host=\"localhost\",\n",
    "                                       user=\"root\",\n",
    "                                       password=f'{self.contraseña}') \n",
    "        mycursor = mydb.cursor()\n",
    "        print(\"Conexión realizada con éxito\")\n",
    "\n",
    "        try:\n",
    "            mycursor.execute(f\"CREATE DATABASE IF NOT EXISTS {self.nombre_bbdd};\")\n",
    "            \n",
    "        except:\n",
    "            print(\"La BBDD ya existe\")\n",
    "    \n",
    "    def crear_insertar_tabla(self, query):\n",
    "        \n",
    "        mydb = mysql.connector.connect(host=\"localhost\",\n",
    "                                       user=\"root\",\n",
    "                                       password=f'{self.contraseña}', \n",
    "                                       database=f\"{self.nombre_bbdd}\") \n",
    "        mycursor = mydb.cursor()\n",
    "        \n",
    "        try:\n",
    "            mycursor.execute(query)\n",
    "            mydb.commit()\n",
    "          \n",
    "        except mysql.connector.Error as err:\n",
    "            print(err)\n",
    "            print(\"Error Code:\", err.errno)\n",
    "            print(\"SQLSTATE\", err.sqlstate)\n",
    "            print(\"Message\", err.msg)\n",
    "    \n",
    "    def check_comunidades(self):\n",
    "    \n",
    "        mydb = mysql.connector.connect(user='root',\n",
    "                                      password=f\"{self.contraseña}\",\n",
    "                                      host='127.0.0.1',\n",
    "                                      database=f\"{self.nombre_bbdd}\")\n",
    "        mycursor = mydb.cursor()\n",
    "\n",
    "        # query para extraer los valores únicos de ciudades de la tabla de localidades \n",
    "        query_existe_comunidad = f\"\"\"\n",
    "                SELECT DISTINCT comunidad FROM comunidades\n",
    "                \"\"\"\n",
    "        mycursor.execute(query_existe_comunidad)\n",
    "        comunidades = mycursor.fetchall()\n",
    "        return comunidades\n",
    "\n",
    "    def sacar_id_comunidad(self, comunidad):\n",
    "        \n",
    "        mydb = mysql.connector.connect(user='root',\n",
    "                                       password= f'{self.contraseña}',\n",
    "                                       host='127.0.0.1', \n",
    "                                       database=f\"{self.nombre_bbdd}\")\n",
    "        mycursor = mydb.cursor()\n",
    "        \n",
    "        try:\n",
    "            query_sacar_id = f\"SELECT idcomunidades FROM comunidades WHERE comunidad = '{comunidad}'\"\n",
    "            mycursor.execute(query_sacar_id)\n",
    "            id_ = mycursor.fetchall()[0][0]\n",
    "            return id_\n",
    "        \n",
    "        except: \n",
    "            return \"Sorry, no tenemos esa comunidad en la BBDD y por lo tanto no te podemos dar su id. \"\n",
    "    \n",
    "    def sacar_id_fecha(self,fecha):\n",
    "        mydb = mysql.connector.connect(user='root', password=f'{self.contraseña}',\n",
    "                                          host='127.0.0.1', database=f\"{self.nombre_bbdd}\")\n",
    "        mycursor = mydb.cursor()\n",
    "\n",
    "        try:\n",
    "            query_sacar_id = f\"SELECT idfecha FROM fecha WHERE fecha = '{fecha}'\"\n",
    "            mycursor.execute(query_sacar_id)\n",
    "            id_ = mycursor.fetchall()[0][0]\n",
    "            return id_\n",
    "        \n",
    "        except: \n",
    "             return \"Sorry, no tenemos esa fecha en la BBDD y por lo tanto no te podemos dar su id. \""
   ]
  },
  {
   "cell_type": "code",
   "execution_count": 15,
   "metadata": {},
   "outputs": [],
   "source": [
    "carga = Cargar(\"energia\", \"AlumnaAdalab\")"
   ]
  },
  {
   "cell_type": "code",
   "execution_count": 18,
   "metadata": {},
   "outputs": [],
   "source": [
    "# tabla fecha\n",
    "\n",
    "for indice, fila in df_nacional.iterrows(): \n",
    "    \n",
    "    query_fecha = f\"\"\"\n",
    "            INSERT INTO fecha (fecha) # como la primary key la hemos puesto como autoincremental no hace falta introducirla en el insert\n",
    "            VALUES ( \"{fila[\"fecha\"]}\");\n",
    "            \"\"\"\n",
    "    carga.crear_insertar_tabla(query_fecha)"
   ]
  },
  {
   "cell_type": "code",
   "execution_count": 19,
   "metadata": {},
   "outputs": [],
   "source": [
    "for indice, fila in df_ccaa.iterrows():\n",
    "    \n",
    "    # creamos la query que no inserta datos en la tabla localidades\n",
    "    query_comunidad = f\"\"\"\n",
    "                INSERT INTO comunidades (comunidad) \n",
    "                VALUES ( \"{fila['comunidad']}\");\n",
    "                \"\"\"\n",
    "    # llamamos a la funcion check_ciudades para saber que ciudades tenemos en la BBDD\n",
    "    \n",
    "    carga.crear_insertar_tabla(query_comunidad)"
   ]
  },
  {
   "cell_type": "code",
   "execution_count": 21,
   "metadata": {},
   "outputs": [
    {
     "name": "stdout",
     "output_type": "stream",
     "text": [
      "Ceuta ya esta en nuestra BBDD\n",
      "Ceuta ya esta en nuestra BBDD\n",
      "Ceuta ya esta en nuestra BBDD\n",
      "Ceuta ya esta en nuestra BBDD\n",
      "Ceuta ya esta en nuestra BBDD\n",
      "Ceuta ya esta en nuestra BBDD\n",
      "Ceuta ya esta en nuestra BBDD\n",
      "Ceuta ya esta en nuestra BBDD\n",
      "Ceuta ya esta en nuestra BBDD\n",
      "Ceuta ya esta en nuestra BBDD\n",
      "Ceuta ya esta en nuestra BBDD\n"
     ]
    }
   ],
   "source": [
    "# tabla comunidades\n",
    "\n",
    "for indice, fila in df_ccaa.iterrows():\n",
    "    \n",
    "    # creamos la query que no inserta datos en la tabla localidades\n",
    "    query_comunidad = f\"\"\"\n",
    "                INSERT INTO comunidades (comunidad) \n",
    "                VALUES ( \"{fila['comunidad']}\");\n",
    "                \"\"\"\n",
    "    # llamamos a la funcion check_ciudades para saber que ciudades tenemos en la BBDD\n",
    "    comunidades = carga.check_comunidades()\n",
    "    \n",
    "    # Si la BBDD de datos esta vacía,  podemos insertar la ciudad. \n",
    "    ## carga.check_comunidades() sera una lista de tuplas y hay que convertirlo a lista\n",
    "    if len(comunidades) == 0 or fila[\"comunidad\"] not in comunidades[0]: \n",
    "\n",
    "        carga.crear_insertar_tabla(query_comunidad)\n",
    "\n",
    "    else:\n",
    "        print(f\"{fila['comunidad']} ya esta en nuestra BBDD\")"
   ]
  },
  {
   "cell_type": "code",
   "execution_count": 29,
   "metadata": {},
   "outputs": [],
   "source": [
    "# tabla nacional\n",
    "\n",
    "for indice, fila in df_nacional.iterrows():\n",
    "    \n",
    "    id_fecha = carga.sacar_id_fecha(fila['fecha'])\n",
    "\n",
    "    \n",
    "    query_nacional = f\"\"\"\n",
    "                INSERT INTO nacional_renovable_no_renovable (porcentaje, tipo_energia, valor, fecha_idfecha) \n",
    "                VALUES (\"{fila[\"percentage\"]}\", \"{fila['tipo_energía']}\", \"{fila['value']}\",\"{id_fecha}\");\n",
    "                \"\"\"\n",
    "    carga.crear_insertar_tabla( query_nacional)"
   ]
  },
  {
   "cell_type": "code",
   "execution_count": 50,
   "metadata": {},
   "outputs": [],
   "source": [
    "# tabla ccaa\n",
    "\n",
    "for indice, fila in df_ccaa.iterrows():\n",
    "    \n",
    "    id_fecha = carga.sacar_id_fecha(fila['fecha'])\n",
    "    id_comunidad = carga.sacar_id_comunidad(fila['comunidad'])\n",
    "\n",
    "    \n",
    "    query_ccaa = f\"\"\"\n",
    "                INSERT INTO comunidades_renovable_no_renovable (porcentaje, tipo_energia, valor, comunidades_idcomunidades, fecha_idfecha) \n",
    "                VALUES (\"{fila[\"percentage\"]}\", \"{fila['tipo_energía']}\", \"{fila['value']}\", \"{id_comunidad}\",\"{id_fecha}\");\n",
    "                \"\"\"\n",
    "    carga.crear_insertar_tabla( query_ccaa)"
   ]
  }
 ],
 "metadata": {
  "kernelspec": {
   "display_name": "adalabenv",
   "language": "python",
   "name": "python3"
  },
  "language_info": {
   "codemirror_mode": {
    "name": "ipython",
    "version": 3
   },
   "file_extension": ".py",
   "mimetype": "text/x-python",
   "name": "python",
   "nbconvert_exporter": "python",
   "pygments_lexer": "ipython3",
   "version": "3.10.9"
  },
  "orig_nbformat": 4,
  "vscode": {
   "interpreter": {
    "hash": "0b8bbabd87d3ce636409443d1398e5656bf795e33c753b5e821c4b969f4e6c41"
   }
  }
 },
 "nbformat": 4,
 "nbformat_minor": 2
}
