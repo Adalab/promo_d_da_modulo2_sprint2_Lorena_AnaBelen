{
 "cells": [
  {
   "attachments": {},
   "cell_type": "markdown",
   "metadata": {},
   "source": [
    "Es el momento de meter todos nuestros datos en SQL 💪🏽!!! En este ejercicio nos crearemos dos tablas en una BBDD creada por nosotras.\n",
    "📌 Nota Todo lo tendremos que hacer desde jupyter notebook\n",
    "\n",
    "    1. Cread la BBDD con el nombre de energía. La BBDD tendrá la siguiente forma:\n",
    "    2. Cread las tablas de la BBDD:\n",
    "        2.1. Tabla fechas\n",
    "        2.2. Tabla nacional_renovable_no_renovable\n",
    "        2.3. Tabla comunidades_renovable_no_renovable\n",
    "        2.4. Tabla comunidades\n",
    "Al final nuestra BBDD tendrá el siguiente aspecto:\n",
    "\n",
    "BONUS Insertar los datos en las tablas.\n",
    "📌 Nota Esta parte del pair es optativa y no será considerada para la evaluación"
   ]
  },
  {
   "cell_type": "code",
   "execution_count": null,
   "metadata": {},
   "outputs": [],
   "source": []
  }
 ],
 "metadata": {
  "language_info": {
   "name": "python"
  },
  "orig_nbformat": 4
 },
 "nbformat": 4,
 "nbformat_minor": 2
}
