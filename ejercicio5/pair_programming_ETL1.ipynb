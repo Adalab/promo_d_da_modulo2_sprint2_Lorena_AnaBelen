{
 "cells": [
  {
   "attachments": {},
   "cell_type": "markdown",
   "metadata": {},
   "source": [
    "#### PAIR PROGRAMMING - ETL 1"
   ]
  },
  {
   "attachments": {},
   "cell_type": "markdown",
   "metadata": {},
   "source": [
    "En el marco de un proyecto de análisis de datos, se requiere realizar una ETL para integrar información de distintas fuentes de datos. La empresa para la que trabajamos cuenta con una base de datos de la informacion sobre el número de personas censadas en las distintas Comunidades Autónomas españolas desde el año 1998 hasta el 2022. Quieren enriquecer los datos con información de la generación de energías renovables y no renovables y crear una base de datos más completa. Para esto nos piden que usemos la API de REData la cual nos da mucha información sobre el mercado energético en España. La documentación la encontraréis aquí (Gitbook)"
   ]
  },
  {
   "cell_type": "code",
   "execution_count": 5,
   "metadata": {},
   "outputs": [],
   "source": [
    "from IPython.core.interactiveshell import InteractiveShell # Nos permite mostar más de una salida por celda\n",
    "InteractiveShell.ast_node_interactivity = \"all\" # Nos permite mostar más de una salida por celda\n",
    "\n",
    "import requests\n",
    "import pandas as pd\n",
    "import numpy as np"
   ]
  },
  {
   "attachments": {},
   "cell_type": "markdown",
   "metadata": {},
   "source": [
    "##### Requisitos de este ejercicio de pair programming:"
   ]
  },
  {
   "attachments": {},
   "cell_type": "markdown",
   "metadata": {},
   "source": [
    "1. Nuestros jefes están especialmente interesados en los datos de generación de las energías renovables y no renovables a nivel nacional. En concreto, nos piden sacar toda la información para las fechas de 1 de Enero del 2011 hasta el 31 de Diciembre del 2022. De toda la información que tenemos de generación queremos la evolucion de renovable y no renovable. Además deberemos incluir una columna nueva identificando si el dato corresponde a energía renovable o no renovable. \n",
    "\n",
    "NOTA: nos piden que el código debe estar en una función. Al final deberemos tener un dataframe como el siguiente:"
   ]
  },
  {
   "cell_type": "code",
   "execution_count": 1,
   "metadata": {},
   "outputs": [],
   "source": [
    "# url1 = 'https://apidatos.ree.es/es/datos/generacion/evolucion-renovable-no-renovable?start_date=2011-01-01T00:00&end_date=2022-01-31T23:59&time_trunc=year'"
   ]
  },
  {
   "cell_type": "code",
   "execution_count": null,
   "metadata": {},
   "outputs": [],
   "source": [
    "url1 = 'https://apidatos.ree.es/es/datos/generacion/evolucion-renovable-no-renovable?start_date={año_inicio}-01-01T00:00&end_date={año_inicio + 1}-01-31T23:59&time_trunc=year'"
   ]
  },
  {
   "cell_type": "code",
   "execution_count": 25,
   "metadata": {},
   "outputs": [],
   "source": [
    "año_inicio = 2011\n",
    "año_final = 2023"
   ]
  },
  {
   "cell_type": "code",
   "execution_count": 46,
   "metadata": {},
   "outputs": [],
   "source": [
    "url = 'https://apidatos.ree.es/es/datos/generacion/evolucion-renovable-no-renovable?start_date=2011-01-01T00:00&end_date=2011-12-31T23:59&time_trunc=month'"
   ]
  },
  {
   "cell_type": "code",
   "execution_count": 47,
   "metadata": {},
   "outputs": [],
   "source": [
    "response = requests.get(url)"
   ]
  },
  {
   "cell_type": "code",
   "execution_count": 48,
   "metadata": {},
   "outputs": [
    {
     "data": {
      "text/plain": [
       "200"
      ]
     },
     "execution_count": 48,
     "metadata": {},
     "output_type": "execute_result"
    }
   ],
   "source": [
    "response.status_code"
   ]
  },
  {
   "cell_type": "code",
   "execution_count": 49,
   "metadata": {},
   "outputs": [
    {
     "data": {
      "text/plain": [
       "'OK'"
      ]
     },
     "execution_count": 49,
     "metadata": {},
     "output_type": "execute_result"
    }
   ],
   "source": [
    "response.reason"
   ]
  },
  {
   "cell_type": "code",
   "execution_count": 50,
   "metadata": {},
   "outputs": [
    {
     "data": {
      "text/plain": [
       "[{'value': 9918268.536,\n",
       "  'percentage': 0.3827907635999176,\n",
       "  'datetime': '2011-01-01T00:00:00.000+01:00'},\n",
       " {'value': 7991499.8525,\n",
       "  'percentage': 0.34539728666246566,\n",
       "  'datetime': '2011-02-01T00:00:00.000+01:00'},\n",
       " {'value': 9606067.697,\n",
       "  'percentage': 0.38313491871765465,\n",
       "  'datetime': '2011-03-01T00:00:00.000+01:00'},\n",
       " {'value': 8123455.767,\n",
       "  'percentage': 0.374645327606978,\n",
       "  'datetime': '2011-04-01T00:00:00.000+02:00'},\n",
       " {'value': 7251163.8615,\n",
       "  'percentage': 0.3315832492156598,\n",
       "  'datetime': '2011-05-01T00:00:00.000+02:00'},\n",
       " {'value': 6452804.794,\n",
       "  'percentage': 0.28622384987819477,\n",
       "  'datetime': '2011-06-01T00:00:00.000+02:00'},\n",
       " {'value': 6498576.444,\n",
       "  'percentage': 0.2712500834748904,\n",
       "  'datetime': '2011-07-01T00:00:00.000+02:00'},\n",
       " {'value': 5727787.99,\n",
       "  'percentage': 0.24520399433014006,\n",
       "  'datetime': '2011-08-01T00:00:00.000+02:00'},\n",
       " {'value': 4933369.656,\n",
       "  'percentage': 0.21408577261430467,\n",
       "  'datetime': '2011-09-01T00:00:00.000+02:00'},\n",
       " {'value': 5622637.3765,\n",
       "  'percentage': 0.25282066301127765,\n",
       "  'datetime': '2011-10-01T00:00:00.000+02:00'},\n",
       " {'value': 6825133.5855,\n",
       "  'percentage': 0.3015785344449875,\n",
       "  'datetime': '2011-11-01T00:00:00.000+01:00'},\n",
       " {'value': 7716287.29,\n",
       "  'percentage': 0.32277637531821257,\n",
       "  'datetime': '2011-12-01T00:00:00.000+01:00'}]"
      ]
     },
     "execution_count": 50,
     "metadata": {},
     "output_type": "execute_result"
    }
   ],
   "source": [
    "response.json()['included'][0]['attributes']['values']"
   ]
  },
  {
   "cell_type": "code",
   "execution_count": 41,
   "metadata": {},
   "outputs": [
    {
     "data": {
      "text/plain": [
       "[{'value': 159732166.7370002,\n",
       "  'percentage': 0.5780793447830334,\n",
       "  'datetime': '2022-01-01T00:00:00.000+01:00'}]"
      ]
     },
     "execution_count": 41,
     "metadata": {},
     "output_type": "execute_result"
    }
   ],
   "source": [
    "response.json()['included'][1]['attributes']['values']"
   ]
  },
  {
   "cell_type": "code",
   "execution_count": 51,
   "metadata": {},
   "outputs": [],
   "source": [
    "df_renovables = pd.json_normalize(response.json()['included'][0]['attributes']['values'])"
   ]
  },
  {
   "cell_type": "code",
   "execution_count": 52,
   "metadata": {},
   "outputs": [
    {
     "data": {
      "text/html": [
       "<div>\n",
       "<style scoped>\n",
       "    .dataframe tbody tr th:only-of-type {\n",
       "        vertical-align: middle;\n",
       "    }\n",
       "\n",
       "    .dataframe tbody tr th {\n",
       "        vertical-align: top;\n",
       "    }\n",
       "\n",
       "    .dataframe thead th {\n",
       "        text-align: right;\n",
       "    }\n",
       "</style>\n",
       "<table border=\"1\" class=\"dataframe\">\n",
       "  <thead>\n",
       "    <tr style=\"text-align: right;\">\n",
       "      <th></th>\n",
       "      <th>value</th>\n",
       "      <th>percentage</th>\n",
       "      <th>datetime</th>\n",
       "    </tr>\n",
       "  </thead>\n",
       "  <tbody>\n",
       "    <tr>\n",
       "      <th>0</th>\n",
       "      <td>9.918269e+06</td>\n",
       "      <td>0.382791</td>\n",
       "      <td>2011-01-01T00:00:00.000+01:00</td>\n",
       "    </tr>\n",
       "    <tr>\n",
       "      <th>1</th>\n",
       "      <td>7.991500e+06</td>\n",
       "      <td>0.345397</td>\n",
       "      <td>2011-02-01T00:00:00.000+01:00</td>\n",
       "    </tr>\n",
       "    <tr>\n",
       "      <th>2</th>\n",
       "      <td>9.606068e+06</td>\n",
       "      <td>0.383135</td>\n",
       "      <td>2011-03-01T00:00:00.000+01:00</td>\n",
       "    </tr>\n",
       "    <tr>\n",
       "      <th>3</th>\n",
       "      <td>8.123456e+06</td>\n",
       "      <td>0.374645</td>\n",
       "      <td>2011-04-01T00:00:00.000+02:00</td>\n",
       "    </tr>\n",
       "    <tr>\n",
       "      <th>4</th>\n",
       "      <td>7.251164e+06</td>\n",
       "      <td>0.331583</td>\n",
       "      <td>2011-05-01T00:00:00.000+02:00</td>\n",
       "    </tr>\n",
       "    <tr>\n",
       "      <th>5</th>\n",
       "      <td>6.452805e+06</td>\n",
       "      <td>0.286224</td>\n",
       "      <td>2011-06-01T00:00:00.000+02:00</td>\n",
       "    </tr>\n",
       "    <tr>\n",
       "      <th>6</th>\n",
       "      <td>6.498576e+06</td>\n",
       "      <td>0.271250</td>\n",
       "      <td>2011-07-01T00:00:00.000+02:00</td>\n",
       "    </tr>\n",
       "    <tr>\n",
       "      <th>7</th>\n",
       "      <td>5.727788e+06</td>\n",
       "      <td>0.245204</td>\n",
       "      <td>2011-08-01T00:00:00.000+02:00</td>\n",
       "    </tr>\n",
       "    <tr>\n",
       "      <th>8</th>\n",
       "      <td>4.933370e+06</td>\n",
       "      <td>0.214086</td>\n",
       "      <td>2011-09-01T00:00:00.000+02:00</td>\n",
       "    </tr>\n",
       "    <tr>\n",
       "      <th>9</th>\n",
       "      <td>5.622637e+06</td>\n",
       "      <td>0.252821</td>\n",
       "      <td>2011-10-01T00:00:00.000+02:00</td>\n",
       "    </tr>\n",
       "    <tr>\n",
       "      <th>10</th>\n",
       "      <td>6.825134e+06</td>\n",
       "      <td>0.301579</td>\n",
       "      <td>2011-11-01T00:00:00.000+01:00</td>\n",
       "    </tr>\n",
       "    <tr>\n",
       "      <th>11</th>\n",
       "      <td>7.716287e+06</td>\n",
       "      <td>0.322776</td>\n",
       "      <td>2011-12-01T00:00:00.000+01:00</td>\n",
       "    </tr>\n",
       "  </tbody>\n",
       "</table>\n",
       "</div>"
      ],
      "text/plain": [
       "           value  percentage                       datetime\n",
       "0   9.918269e+06    0.382791  2011-01-01T00:00:00.000+01:00\n",
       "1   7.991500e+06    0.345397  2011-02-01T00:00:00.000+01:00\n",
       "2   9.606068e+06    0.383135  2011-03-01T00:00:00.000+01:00\n",
       "3   8.123456e+06    0.374645  2011-04-01T00:00:00.000+02:00\n",
       "4   7.251164e+06    0.331583  2011-05-01T00:00:00.000+02:00\n",
       "5   6.452805e+06    0.286224  2011-06-01T00:00:00.000+02:00\n",
       "6   6.498576e+06    0.271250  2011-07-01T00:00:00.000+02:00\n",
       "7   5.727788e+06    0.245204  2011-08-01T00:00:00.000+02:00\n",
       "8   4.933370e+06    0.214086  2011-09-01T00:00:00.000+02:00\n",
       "9   5.622637e+06    0.252821  2011-10-01T00:00:00.000+02:00\n",
       "10  6.825134e+06    0.301579  2011-11-01T00:00:00.000+01:00\n",
       "11  7.716287e+06    0.322776  2011-12-01T00:00:00.000+01:00"
      ]
     },
     "execution_count": 52,
     "metadata": {},
     "output_type": "execute_result"
    }
   ],
   "source": [
    "df_renovables"
   ]
  },
  {
   "cell_type": "code",
   "execution_count": 53,
   "metadata": {},
   "outputs": [],
   "source": [
    "df_renovables ['tipo_energía'] = \"Renovable\""
   ]
  },
  {
   "cell_type": "code",
   "execution_count": 54,
   "metadata": {},
   "outputs": [
    {
     "data": {
      "text/html": [
       "<div>\n",
       "<style scoped>\n",
       "    .dataframe tbody tr th:only-of-type {\n",
       "        vertical-align: middle;\n",
       "    }\n",
       "\n",
       "    .dataframe tbody tr th {\n",
       "        vertical-align: top;\n",
       "    }\n",
       "\n",
       "    .dataframe thead th {\n",
       "        text-align: right;\n",
       "    }\n",
       "</style>\n",
       "<table border=\"1\" class=\"dataframe\">\n",
       "  <thead>\n",
       "    <tr style=\"text-align: right;\">\n",
       "      <th></th>\n",
       "      <th>value</th>\n",
       "      <th>percentage</th>\n",
       "      <th>datetime</th>\n",
       "      <th>tipo_energía</th>\n",
       "    </tr>\n",
       "  </thead>\n",
       "  <tbody>\n",
       "    <tr>\n",
       "      <th>0</th>\n",
       "      <td>9.918269e+06</td>\n",
       "      <td>0.382791</td>\n",
       "      <td>2011-01-01T00:00:00.000+01:00</td>\n",
       "      <td>Renovable</td>\n",
       "    </tr>\n",
       "    <tr>\n",
       "      <th>1</th>\n",
       "      <td>7.991500e+06</td>\n",
       "      <td>0.345397</td>\n",
       "      <td>2011-02-01T00:00:00.000+01:00</td>\n",
       "      <td>Renovable</td>\n",
       "    </tr>\n",
       "    <tr>\n",
       "      <th>2</th>\n",
       "      <td>9.606068e+06</td>\n",
       "      <td>0.383135</td>\n",
       "      <td>2011-03-01T00:00:00.000+01:00</td>\n",
       "      <td>Renovable</td>\n",
       "    </tr>\n",
       "    <tr>\n",
       "      <th>3</th>\n",
       "      <td>8.123456e+06</td>\n",
       "      <td>0.374645</td>\n",
       "      <td>2011-04-01T00:00:00.000+02:00</td>\n",
       "      <td>Renovable</td>\n",
       "    </tr>\n",
       "    <tr>\n",
       "      <th>4</th>\n",
       "      <td>7.251164e+06</td>\n",
       "      <td>0.331583</td>\n",
       "      <td>2011-05-01T00:00:00.000+02:00</td>\n",
       "      <td>Renovable</td>\n",
       "    </tr>\n",
       "    <tr>\n",
       "      <th>5</th>\n",
       "      <td>6.452805e+06</td>\n",
       "      <td>0.286224</td>\n",
       "      <td>2011-06-01T00:00:00.000+02:00</td>\n",
       "      <td>Renovable</td>\n",
       "    </tr>\n",
       "    <tr>\n",
       "      <th>6</th>\n",
       "      <td>6.498576e+06</td>\n",
       "      <td>0.271250</td>\n",
       "      <td>2011-07-01T00:00:00.000+02:00</td>\n",
       "      <td>Renovable</td>\n",
       "    </tr>\n",
       "    <tr>\n",
       "      <th>7</th>\n",
       "      <td>5.727788e+06</td>\n",
       "      <td>0.245204</td>\n",
       "      <td>2011-08-01T00:00:00.000+02:00</td>\n",
       "      <td>Renovable</td>\n",
       "    </tr>\n",
       "    <tr>\n",
       "      <th>8</th>\n",
       "      <td>4.933370e+06</td>\n",
       "      <td>0.214086</td>\n",
       "      <td>2011-09-01T00:00:00.000+02:00</td>\n",
       "      <td>Renovable</td>\n",
       "    </tr>\n",
       "    <tr>\n",
       "      <th>9</th>\n",
       "      <td>5.622637e+06</td>\n",
       "      <td>0.252821</td>\n",
       "      <td>2011-10-01T00:00:00.000+02:00</td>\n",
       "      <td>Renovable</td>\n",
       "    </tr>\n",
       "    <tr>\n",
       "      <th>10</th>\n",
       "      <td>6.825134e+06</td>\n",
       "      <td>0.301579</td>\n",
       "      <td>2011-11-01T00:00:00.000+01:00</td>\n",
       "      <td>Renovable</td>\n",
       "    </tr>\n",
       "    <tr>\n",
       "      <th>11</th>\n",
       "      <td>7.716287e+06</td>\n",
       "      <td>0.322776</td>\n",
       "      <td>2011-12-01T00:00:00.000+01:00</td>\n",
       "      <td>Renovable</td>\n",
       "    </tr>\n",
       "  </tbody>\n",
       "</table>\n",
       "</div>"
      ],
      "text/plain": [
       "           value  percentage                       datetime tipo_energía\n",
       "0   9.918269e+06    0.382791  2011-01-01T00:00:00.000+01:00    Renovable\n",
       "1   7.991500e+06    0.345397  2011-02-01T00:00:00.000+01:00    Renovable\n",
       "2   9.606068e+06    0.383135  2011-03-01T00:00:00.000+01:00    Renovable\n",
       "3   8.123456e+06    0.374645  2011-04-01T00:00:00.000+02:00    Renovable\n",
       "4   7.251164e+06    0.331583  2011-05-01T00:00:00.000+02:00    Renovable\n",
       "5   6.452805e+06    0.286224  2011-06-01T00:00:00.000+02:00    Renovable\n",
       "6   6.498576e+06    0.271250  2011-07-01T00:00:00.000+02:00    Renovable\n",
       "7   5.727788e+06    0.245204  2011-08-01T00:00:00.000+02:00    Renovable\n",
       "8   4.933370e+06    0.214086  2011-09-01T00:00:00.000+02:00    Renovable\n",
       "9   5.622637e+06    0.252821  2011-10-01T00:00:00.000+02:00    Renovable\n",
       "10  6.825134e+06    0.301579  2011-11-01T00:00:00.000+01:00    Renovable\n",
       "11  7.716287e+06    0.322776  2011-12-01T00:00:00.000+01:00    Renovable"
      ]
     },
     "execution_count": 54,
     "metadata": {},
     "output_type": "execute_result"
    }
   ],
   "source": [
    "df_renovables"
   ]
  },
  {
   "cell_type": "code",
   "execution_count": 57,
   "metadata": {},
   "outputs": [
    {
     "data": {
      "text/plain": [
       "(0, 0)"
      ]
     },
     "execution_count": 57,
     "metadata": {},
     "output_type": "execute_result"
    }
   ],
   "source": [
    "df = pd.DataFrame()\n",
    "df.shape"
   ]
  },
  {
   "cell_type": "code",
   "execution_count": 23,
   "metadata": {},
   "outputs": [],
   "source": [
    "diccionario = {}\n",
    "\n",
    "for año in range(año_inicio, año_final):\n",
    "    \n",
    "    print(año)\n",
    "\n",
    "    response = requests.get(f'https://apidatos.ree.es/es/datos/generacion/evolucion-renovable-no-renovable?start_date={año}-01-01T00:00&end_date={año}-12-31T23:59&time_trunc=year')\n",
    "\n",
    "    response.status_code\n",
    "    print(response.status_code)\n",
    "\n",
    "    response.reason\n",
    "    print(response.reason)\n"
   ]
  },
  {
   "cell_type": "code",
   "execution_count": 27,
   "metadata": {},
   "outputs": [
    {
     "name": "stdout",
     "output_type": "stream",
     "text": [
      "2011\n"
     ]
    },
    {
     "data": {
      "text/plain": [
       "200"
      ]
     },
     "execution_count": 27,
     "metadata": {},
     "output_type": "execute_result"
    },
    {
     "name": "stdout",
     "output_type": "stream",
     "text": [
      "200\n"
     ]
    },
    {
     "data": {
      "text/plain": [
       "'OK'"
      ]
     },
     "execution_count": 27,
     "metadata": {},
     "output_type": "execute_result"
    },
    {
     "name": "stdout",
     "output_type": "stream",
     "text": [
      "OK\n",
      "2012\n"
     ]
    },
    {
     "data": {
      "text/plain": [
       "200"
      ]
     },
     "execution_count": 27,
     "metadata": {},
     "output_type": "execute_result"
    },
    {
     "name": "stdout",
     "output_type": "stream",
     "text": [
      "200\n"
     ]
    },
    {
     "data": {
      "text/plain": [
       "'OK'"
      ]
     },
     "execution_count": 27,
     "metadata": {},
     "output_type": "execute_result"
    },
    {
     "name": "stdout",
     "output_type": "stream",
     "text": [
      "OK\n",
      "2013\n"
     ]
    },
    {
     "data": {
      "text/plain": [
       "200"
      ]
     },
     "execution_count": 27,
     "metadata": {},
     "output_type": "execute_result"
    },
    {
     "name": "stdout",
     "output_type": "stream",
     "text": [
      "200\n"
     ]
    },
    {
     "data": {
      "text/plain": [
       "'OK'"
      ]
     },
     "execution_count": 27,
     "metadata": {},
     "output_type": "execute_result"
    },
    {
     "name": "stdout",
     "output_type": "stream",
     "text": [
      "OK\n",
      "2014\n"
     ]
    },
    {
     "data": {
      "text/plain": [
       "200"
      ]
     },
     "execution_count": 27,
     "metadata": {},
     "output_type": "execute_result"
    },
    {
     "name": "stdout",
     "output_type": "stream",
     "text": [
      "200\n"
     ]
    },
    {
     "data": {
      "text/plain": [
       "'OK'"
      ]
     },
     "execution_count": 27,
     "metadata": {},
     "output_type": "execute_result"
    },
    {
     "name": "stdout",
     "output_type": "stream",
     "text": [
      "OK\n",
      "2015\n"
     ]
    },
    {
     "data": {
      "text/plain": [
       "200"
      ]
     },
     "execution_count": 27,
     "metadata": {},
     "output_type": "execute_result"
    },
    {
     "name": "stdout",
     "output_type": "stream",
     "text": [
      "200\n"
     ]
    },
    {
     "data": {
      "text/plain": [
       "'OK'"
      ]
     },
     "execution_count": 27,
     "metadata": {},
     "output_type": "execute_result"
    },
    {
     "name": "stdout",
     "output_type": "stream",
     "text": [
      "OK\n",
      "2016\n"
     ]
    },
    {
     "data": {
      "text/plain": [
       "200"
      ]
     },
     "execution_count": 27,
     "metadata": {},
     "output_type": "execute_result"
    },
    {
     "name": "stdout",
     "output_type": "stream",
     "text": [
      "200\n"
     ]
    },
    {
     "data": {
      "text/plain": [
       "'OK'"
      ]
     },
     "execution_count": 27,
     "metadata": {},
     "output_type": "execute_result"
    },
    {
     "name": "stdout",
     "output_type": "stream",
     "text": [
      "OK\n",
      "2017\n"
     ]
    },
    {
     "data": {
      "text/plain": [
       "200"
      ]
     },
     "execution_count": 27,
     "metadata": {},
     "output_type": "execute_result"
    },
    {
     "name": "stdout",
     "output_type": "stream",
     "text": [
      "200\n"
     ]
    },
    {
     "data": {
      "text/plain": [
       "'OK'"
      ]
     },
     "execution_count": 27,
     "metadata": {},
     "output_type": "execute_result"
    },
    {
     "name": "stdout",
     "output_type": "stream",
     "text": [
      "OK\n",
      "2018\n"
     ]
    },
    {
     "data": {
      "text/plain": [
       "200"
      ]
     },
     "execution_count": 27,
     "metadata": {},
     "output_type": "execute_result"
    },
    {
     "name": "stdout",
     "output_type": "stream",
     "text": [
      "200\n"
     ]
    },
    {
     "data": {
      "text/plain": [
       "'OK'"
      ]
     },
     "execution_count": 27,
     "metadata": {},
     "output_type": "execute_result"
    },
    {
     "name": "stdout",
     "output_type": "stream",
     "text": [
      "OK\n",
      "2019\n"
     ]
    },
    {
     "data": {
      "text/plain": [
       "200"
      ]
     },
     "execution_count": 27,
     "metadata": {},
     "output_type": "execute_result"
    },
    {
     "name": "stdout",
     "output_type": "stream",
     "text": [
      "200\n"
     ]
    },
    {
     "data": {
      "text/plain": [
       "'OK'"
      ]
     },
     "execution_count": 27,
     "metadata": {},
     "output_type": "execute_result"
    },
    {
     "name": "stdout",
     "output_type": "stream",
     "text": [
      "OK\n",
      "2020\n"
     ]
    },
    {
     "data": {
      "text/plain": [
       "200"
      ]
     },
     "execution_count": 27,
     "metadata": {},
     "output_type": "execute_result"
    },
    {
     "name": "stdout",
     "output_type": "stream",
     "text": [
      "200\n"
     ]
    },
    {
     "data": {
      "text/plain": [
       "'OK'"
      ]
     },
     "execution_count": 27,
     "metadata": {},
     "output_type": "execute_result"
    },
    {
     "name": "stdout",
     "output_type": "stream",
     "text": [
      "OK\n",
      "2021\n"
     ]
    },
    {
     "data": {
      "text/plain": [
       "200"
      ]
     },
     "execution_count": 27,
     "metadata": {},
     "output_type": "execute_result"
    },
    {
     "name": "stdout",
     "output_type": "stream",
     "text": [
      "200\n"
     ]
    },
    {
     "data": {
      "text/plain": [
       "'OK'"
      ]
     },
     "execution_count": 27,
     "metadata": {},
     "output_type": "execute_result"
    },
    {
     "name": "stdout",
     "output_type": "stream",
     "text": [
      "OK\n",
      "2022\n"
     ]
    },
    {
     "data": {
      "text/plain": [
       "200"
      ]
     },
     "execution_count": 27,
     "metadata": {},
     "output_type": "execute_result"
    },
    {
     "name": "stdout",
     "output_type": "stream",
     "text": [
      "200\n"
     ]
    },
    {
     "data": {
      "text/plain": [
       "'OK'"
      ]
     },
     "execution_count": 27,
     "metadata": {},
     "output_type": "execute_result"
    },
    {
     "name": "stdout",
     "output_type": "stream",
     "text": [
      "OK\n"
     ]
    }
   ],
   "source": [
    "for año in range(año_inicio, año_final):\n",
    "    print(año)\n",
    "\n",
    "    response = requests.get(f'https://apidatos.ree.es/es/datos/generacion/evolucion-renovable-no-renovable?start_date={año}-01-01T00:00&end_date={año}-12-31T23:59&time_trunc=year')\n",
    "\n",
    "    response.status_code\n",
    "    print(response.status_code)\n",
    "\n",
    "    response.reason\n",
    "    print(response.reason)\n"
   ]
  },
  {
   "cell_type": "code",
   "execution_count": null,
   "metadata": {},
   "outputs": [],
   "source": []
  },
  {
   "cell_type": "code",
   "execution_count": null,
   "metadata": {},
   "outputs": [],
   "source": [
    "if año_inicio > año_final:\n",
    "        break\n",
    "    else:\n",
    "        pass\n",
    "\n",
    "    diccionario.update(response.json())"
   ]
  },
  {
   "attachments": {},
   "cell_type": "markdown",
   "metadata": {},
   "source": [
    "2. Sacaremos la misma información que en el ejericio anterior, pero en este caso por CCAA. Para esto necesitaremos los códigos de cada una de las comunidades autónomas que encontraréis en el siguiente diccionario:"
   ]
  },
  {
   "cell_type": "code",
   "execution_count": null,
   "metadata": {},
   "outputs": [],
   "source": [
    "url2 = 'https://apidatos.ree.es/es/datos/generacion/estructura-generacion?start_date=2014-01-01T00:00&end_date=2018-12-31T23:59&time_trunc=year&geo_trunc=electric_system&geo_limit=ccaa&geo_ids=7'"
   ]
  },
  {
   "cell_type": "code",
   "execution_count": null,
   "metadata": {},
   "outputs": [],
   "source": [
    "# cod_comunidades = {'Ceuta': 8744,\n",
    "#                     'Melilla': 8745,\n",
    "#                     'Andalucía': 4,\n",
    "#                     'Aragón': 5,\n",
    "#                     'Cantabria': 6,\n",
    "#                     'Castilla - La Mancha': 7,\n",
    "#                     'Castilla y León': 8,\n",
    "#                     'Cataluña': 9,\n",
    "#                     'País Vasco': 10,\n",
    "#                     'Principado de Asturias': 11,\n",
    "#                     'Comunidad de Madrid': 13,\n",
    "#                     'Comunidad Foral de Navarra': 14,\n",
    "#                     'Comunitat Valenciana': 15,\n",
    "#                     'Extremadura': 16,\n",
    "#                     'Galicia': 17,\n",
    "#                     'Illes Balears': 8743,\n",
    "#                     'Canarias': 8742,\n",
    "#                     'Región de Murcia': 21,\n",
    "#                     'La Rioja': 20}"
   ]
  },
  {
   "attachments": {},
   "cell_type": "markdown",
   "metadata": {},
   "source": [
    "El resultado final de este conjunto de datos debe ser el siguiente (VER EN GITBOOK)"
   ]
  },
  {
   "cell_type": "code",
   "execution_count": null,
   "metadata": {},
   "outputs": [],
   "source": []
  },
  {
   "attachments": {},
   "cell_type": "markdown",
   "metadata": {},
   "source": [
    "3. Guardad los csv ya que mañana los seguiremos usando en los siguientes pairs"
   ]
  },
  {
   "cell_type": "code",
   "execution_count": null,
   "metadata": {},
   "outputs": [],
   "source": []
  }
 ],
 "metadata": {
  "kernelspec": {
   "display_name": "adalabenv",
   "language": "python",
   "name": "python3"
  },
  "language_info": {
   "codemirror_mode": {
    "name": "ipython",
    "version": 3
   },
   "file_extension": ".py",
   "mimetype": "text/x-python",
   "name": "python",
   "nbconvert_exporter": "python",
   "pygments_lexer": "ipython3",
   "version": "3.10.9"
  },
  "orig_nbformat": 4,
  "vscode": {
   "interpreter": {
    "hash": "0b8bbabd87d3ce636409443d1398e5656bf795e33c753b5e821c4b969f4e6c41"
   }
  }
 },
 "nbformat": 4,
 "nbformat_minor": 2
}
